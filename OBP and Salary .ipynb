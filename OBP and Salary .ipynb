{
 "cells": [
  {
   "cell_type": "code",
   "execution_count": 2,
   "id": "likely-samba",
   "metadata": {},
   "outputs": [],
   "source": [
    "import pandas as pd"
   ]
  },
  {
   "cell_type": "code",
   "execution_count": 3,
   "id": "checked-frost",
   "metadata": {},
   "outputs": [],
   "source": [
    "batting = pd.read_csv('data/baseballdatabank-master/core/batting.csv')"
   ]
  },
  {
   "cell_type": "code",
   "execution_count": 148,
   "id": "vietnamese-empty",
   "metadata": {},
   "outputs": [],
   "source": [
    "salaries = pd.read_csv('data/baseballdatabank-master/core/Salaries.csv')"
   ]
  },
  {
   "cell_type": "code",
   "execution_count": 149,
   "id": "interim-chambers",
   "metadata": {},
   "outputs": [],
   "source": [
    "batting['OBP'] = (batting['H'] + batting['BB'] + batting['HBP'])/(batting['AB'] + batting['BB'] + batting['HBP'] + batting['SF'])"
   ]
  },
  {
   "cell_type": "code",
   "execution_count": 150,
   "id": "optional-spring",
   "metadata": {},
   "outputs": [
    {
     "data": {
      "text/html": [
       "<div>\n",
       "<style scoped>\n",
       "    .dataframe tbody tr th:only-of-type {\n",
       "        vertical-align: middle;\n",
       "    }\n",
       "\n",
       "    .dataframe tbody tr th {\n",
       "        vertical-align: top;\n",
       "    }\n",
       "\n",
       "    .dataframe thead th {\n",
       "        text-align: right;\n",
       "    }\n",
       "</style>\n",
       "<table border=\"1\" class=\"dataframe\">\n",
       "  <thead>\n",
       "    <tr style=\"text-align: right;\">\n",
       "      <th></th>\n",
       "      <th>playerID</th>\n",
       "      <th>yearID</th>\n",
       "      <th>stint</th>\n",
       "      <th>teamID</th>\n",
       "      <th>lgID</th>\n",
       "      <th>G</th>\n",
       "      <th>AB</th>\n",
       "      <th>R</th>\n",
       "      <th>H</th>\n",
       "      <th>2B</th>\n",
       "      <th>...</th>\n",
       "      <th>SB</th>\n",
       "      <th>CS</th>\n",
       "      <th>BB</th>\n",
       "      <th>SO</th>\n",
       "      <th>IBB</th>\n",
       "      <th>HBP</th>\n",
       "      <th>SH</th>\n",
       "      <th>SF</th>\n",
       "      <th>GIDP</th>\n",
       "      <th>OBP</th>\n",
       "    </tr>\n",
       "  </thead>\n",
       "  <tbody>\n",
       "    <tr>\n",
       "      <th>82476</th>\n",
       "      <td>hattesc01</td>\n",
       "      <td>2002</td>\n",
       "      <td>1</td>\n",
       "      <td>OAK</td>\n",
       "      <td>AL</td>\n",
       "      <td>136</td>\n",
       "      <td>492</td>\n",
       "      <td>58</td>\n",
       "      <td>138</td>\n",
       "      <td>22</td>\n",
       "      <td>...</td>\n",
       "      <td>0.0</td>\n",
       "      <td>0.0</td>\n",
       "      <td>68</td>\n",
       "      <td>56.0</td>\n",
       "      <td>1.0</td>\n",
       "      <td>6.0</td>\n",
       "      <td>1.0</td>\n",
       "      <td>1.0</td>\n",
       "      <td>8.0</td>\n",
       "      <td>0.373898</td>\n",
       "    </tr>\n",
       "  </tbody>\n",
       "</table>\n",
       "<p>1 rows × 23 columns</p>\n",
       "</div>"
      ],
      "text/plain": [
       "        playerID  yearID  stint teamID lgID    G   AB   R    H  2B  ...   SB  \\\n",
       "82476  hattesc01    2002      1    OAK   AL  136  492  58  138  22  ...  0.0   \n",
       "\n",
       "        CS  BB    SO  IBB  HBP   SH   SF  GIDP       OBP  \n",
       "82476  0.0  68  56.0  1.0  6.0  1.0  1.0   8.0  0.373898  \n",
       "\n",
       "[1 rows x 23 columns]"
      ]
     },
     "execution_count": 150,
     "metadata": {},
     "output_type": "execute_result"
    }
   ],
   "source": [
    "batting[(batting['playerID'] == 'hattesc01') & (batting['yearID'] == 2002)]"
   ]
  },
  {
   "cell_type": "markdown",
   "id": "ambient-marble",
   "metadata": {},
   "source": [
    "2002 Analysis"
   ]
  },
  {
   "cell_type": "code",
   "execution_count": 163,
   "id": "retained-kuwait",
   "metadata": {},
   "outputs": [],
   "source": [
    "top_20_paid_2002 = salaries[salaries['yearID'] == 2002].sort_values('salary',ascending=False).head(20)['playerID'].to_list()\n",
    "top_20_paid_2002.remove('belleal01')"
   ]
  },
  {
   "cell_type": "code",
   "execution_count": 164,
   "id": "moving-owner",
   "metadata": {},
   "outputs": [],
   "source": [
    "obp_highest_paid_players_2002 = [[batting[(batting['playerID'] == player) & (batting['yearID'] == 2002)]['OBP'].values for player in top_20_paid_2002][num][0] for num in range(len(top_20_paid_2002))]"
   ]
  },
  {
   "cell_type": "code",
   "execution_count": 167,
   "id": "individual-process",
   "metadata": {},
   "outputs": [
    {
     "data": {
      "text/plain": [
       "[0.3917241379310345,\n",
       " 0.40605095541401276,\n",
       " 0.25,\n",
       " 0.4498069498069498,\n",
       " 0.5816993464052288,\n",
       " 0.3993993993993994,\n",
       " 0.37276478679504815,\n",
       " 0.16666666666666666,\n",
       " 0.3854014598540146,\n",
       " 0.16129032258064516,\n",
       " 0.1864406779661017,\n",
       " 0.4213381555153707,\n",
       " 0.41487839771101576,\n",
       " 0.34946236559139787,\n",
       " 0.4350453172205438,\n",
       " 0.32432432432432434,\n",
       " 0.40086830680173663,\n",
       " 0.6,\n",
       " 0.30149253731343284]"
      ]
     },
     "execution_count": 167,
     "metadata": {},
     "output_type": "execute_result"
    }
   ],
   "source": [
    "obp_highest_paid_players_2002"
   ]
  },
  {
   "cell_type": "code",
   "execution_count": 181,
   "id": "later-telescope",
   "metadata": {},
   "outputs": [
    {
     "data": {
      "text/plain": [
       "[22000000,\n",
       " 19400000,\n",
       " 15714286,\n",
       " 15462727,\n",
       " 15000000,\n",
       " 15000000,\n",
       " 14600000,\n",
       " 14000000,\n",
       " 13416667,\n",
       " 13350000,\n",
       " 13100000,\n",
       " 12666667,\n",
       " 12357143,\n",
       " 12166667,\n",
       " 11333333,\n",
       " 11000000,\n",
       " 11000000,\n",
       " 11000000,\n",
       " 11000000,\n",
       " 10571429]"
      ]
     },
     "execution_count": 181,
     "metadata": {},
     "output_type": "execute_result"
    }
   ],
   "source": [
    "top_salaries_2002 = salaries[salaries['yearID'] == 2002].sort_values('salary',ascending=False).head(21)\n",
    "top_salaries_2002.drop(labels=14050,axis=0,inplace=True)\n",
    "top_salaries_2002['salary'].to_list()"
   ]
  },
  {
   "cell_type": "code",
   "execution_count": null,
   "id": "appreciated-relay",
   "metadata": {},
   "outputs": [],
   "source": []
  }
 ],
 "metadata": {
  "kernelspec": {
   "display_name": "Python 3",
   "language": "python",
   "name": "python3"
  },
  "language_info": {
   "codemirror_mode": {
    "name": "ipython",
    "version": 3
   },
   "file_extension": ".py",
   "mimetype": "text/x-python",
   "name": "python",
   "nbconvert_exporter": "python",
   "pygments_lexer": "ipython3",
   "version": "3.7.7"
  }
 },
 "nbformat": 4,
 "nbformat_minor": 5
}
