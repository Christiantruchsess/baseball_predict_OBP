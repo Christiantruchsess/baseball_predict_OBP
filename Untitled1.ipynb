{
 "cells": [
  {
   "cell_type": "code",
   "execution_count": 2,
   "id": "authentic-candle",
   "metadata": {},
   "outputs": [],
   "source": [
    "import pandas as pd"
   ]
  },
  {
   "cell_type": "code",
   "execution_count": 3,
   "id": "considerable-delivery",
   "metadata": {},
   "outputs": [],
   "source": [
    "batting = pd.read_csv('data/baseballdatabank-master/core/batting.csv')"
   ]
  },
  {
   "cell_type": "code",
   "execution_count": 4,
   "id": "personal-hampshire",
   "metadata": {},
   "outputs": [],
   "source": [
    "batting['OBP'] = (batting['H'] + batting['BB'] + batting['HBP'])/(batting['AB'] + batting['BB'] + batting['HBP'] + batting['SF'])"
   ]
  },
  {
   "cell_type": "code",
   "execution_count": 8,
   "id": "sized-anderson",
   "metadata": {},
   "outputs": [
    {
     "data": {
      "text/html": [
       "<div>\n",
       "<style scoped>\n",
       "    .dataframe tbody tr th:only-of-type {\n",
       "        vertical-align: middle;\n",
       "    }\n",
       "\n",
       "    .dataframe tbody tr th {\n",
       "        vertical-align: top;\n",
       "    }\n",
       "\n",
       "    .dataframe thead th {\n",
       "        text-align: right;\n",
       "    }\n",
       "</style>\n",
       "<table border=\"1\" class=\"dataframe\">\n",
       "  <thead>\n",
       "    <tr style=\"text-align: right;\">\n",
       "      <th></th>\n",
       "      <th>playerID</th>\n",
       "      <th>yearID</th>\n",
       "      <th>stint</th>\n",
       "      <th>teamID</th>\n",
       "      <th>lgID</th>\n",
       "      <th>G</th>\n",
       "      <th>AB</th>\n",
       "      <th>R</th>\n",
       "      <th>H</th>\n",
       "      <th>2B</th>\n",
       "      <th>...</th>\n",
       "      <th>SB</th>\n",
       "      <th>CS</th>\n",
       "      <th>BB</th>\n",
       "      <th>SO</th>\n",
       "      <th>IBB</th>\n",
       "      <th>HBP</th>\n",
       "      <th>SH</th>\n",
       "      <th>SF</th>\n",
       "      <th>GIDP</th>\n",
       "      <th>OBP</th>\n",
       "    </tr>\n",
       "  </thead>\n",
       "  <tbody>\n",
       "    <tr>\n",
       "      <th>82476</th>\n",
       "      <td>hattesc01</td>\n",
       "      <td>2002</td>\n",
       "      <td>1</td>\n",
       "      <td>OAK</td>\n",
       "      <td>AL</td>\n",
       "      <td>136</td>\n",
       "      <td>492</td>\n",
       "      <td>58</td>\n",
       "      <td>138</td>\n",
       "      <td>22</td>\n",
       "      <td>...</td>\n",
       "      <td>0.0</td>\n",
       "      <td>0.0</td>\n",
       "      <td>68</td>\n",
       "      <td>56.0</td>\n",
       "      <td>1.0</td>\n",
       "      <td>6.0</td>\n",
       "      <td>1.0</td>\n",
       "      <td>1.0</td>\n",
       "      <td>8.0</td>\n",
       "      <td>0.373898</td>\n",
       "    </tr>\n",
       "  </tbody>\n",
       "</table>\n",
       "<p>1 rows × 23 columns</p>\n",
       "</div>"
      ],
      "text/plain": [
       "        playerID  yearID  stint teamID lgID    G   AB   R    H  2B  ...   SB  \\\n",
       "82476  hattesc01    2002      1    OAK   AL  136  492  58  138  22  ...  0.0   \n",
       "\n",
       "        CS  BB    SO  IBB  HBP   SH   SF  GIDP       OBP  \n",
       "82476  0.0  68  56.0  1.0  6.0  1.0  1.0   8.0  0.373898  \n",
       "\n",
       "[1 rows x 23 columns]"
      ]
     },
     "execution_count": 8,
     "metadata": {},
     "output_type": "execute_result"
    }
   ],
   "source": [
    "batting[(batting['playerID'] == 'hattesc01') & (batting['yearID'] == 2002)]"
   ]
  },
  {
   "cell_type": "markdown",
   "id": "sacred-collect",
   "metadata": {},
   "source": [
    "2002 Analysis"
   ]
  },
  {
   "cell_type": "code",
   "execution_count": 138,
   "id": "short-donna",
   "metadata": {},
   "outputs": [],
   "source": [
    "top_20_paid = ['rodrial01',\n",
    " 'delgaca01',\n",
    " 'brownke01',\n",
    " 'ramirma02',\n",
    " 'bondsba01',\n",
    " 'sosasa01',\n",
    " 'jeterde01',\n",
    " 'martipe02',\n",
    " 'greensh01',\n",
    " 'johnsra05',\n",
    " 'maddugr01',\n",
    " 'walkela01',\n",
    " 'willibe02',\n",
    " 'vaughmo01',\n",
    " 'jonesch06',\n",
    " 'gonzaju03',\n",
    " 'bagweje01',\n",
    " 'mussimi01',\n",
    " 'mondera01',\n",
    " 'piazzmi01']"
   ]
  },
  {
   "cell_type": "code",
   "execution_count": 146,
   "id": "engaged-bennett",
   "metadata": {},
   "outputs": [],
   "source": [
    "obp_highest_paid_players_2002 = [[batting[(batting['playerID'] == player) & (batting['yearID'] == 2002)]['OBP'].values for player in top_20_paid][num][0] for num in range(len(top_20_paid))]"
   ]
  },
  {
   "cell_type": "code",
   "execution_count": null,
   "id": "restricted-abraham",
   "metadata": {},
   "outputs": [],
   "source": []
  }
 ],
 "metadata": {
  "kernelspec": {
   "display_name": "Python 3",
   "language": "python",
   "name": "python3"
  },
  "language_info": {
   "codemirror_mode": {
    "name": "ipython",
    "version": 3
   },
   "file_extension": ".py",
   "mimetype": "text/x-python",
   "name": "python",
   "nbconvert_exporter": "python",
   "pygments_lexer": "ipython3",
   "version": "3.7.7"
  }
 },
 "nbformat": 4,
 "nbformat_minor": 5
}
