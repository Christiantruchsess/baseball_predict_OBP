{
 "cells": [
  {
   "cell_type": "code",
   "execution_count": 8,
   "id": "least-chester",
   "metadata": {},
   "outputs": [],
   "source": [
    "# import data analysis packages\n",
    "import numpy as np \n",
    "import pandas as pd\n",
    "\n",
    "# import sklearn packages\n",
    "from sklearn.preprocessing import StandardScaler\n",
    "from sklearn.model_selection import train_test_split, GridSearchCV\n",
    "from sklearn.pipeline import Pipeline \n",
    "from sklearn.impute import SimpleImputer \n",
    "from sklearn.compose import ColumnTransformer\n",
    "from sklearn.linear_model import LinearRegression\n",
    "import pickle"
   ]
  },
  {
   "cell_type": "code",
   "execution_count": 10,
   "id": "synthetic-individual",
   "metadata": {},
   "outputs": [],
   "source": [
    "batting = pd.read_csv('data/baseballdatabank-master/core/batting.csv')"
   ]
  },
  {
   "cell_type": "code",
   "execution_count": 11,
   "id": "progressive-spare",
   "metadata": {},
   "outputs": [],
   "source": [
    "batting = batting[batting['yearID'] >= 2010]"
   ]
  },
  {
   "cell_type": "code",
   "execution_count": 12,
   "id": "bigger-luther",
   "metadata": {},
   "outputs": [],
   "source": [
    "batting['OBP'] = (batting['H'] + batting['BB'] + batting['HBP'])/(batting['AB'] + batting['BB'] + batting['HBP'] + batting['SF'])"
   ]
  },
  {
   "cell_type": "code",
   "execution_count": 13,
   "id": "acknowledged-dispatch",
   "metadata": {},
   "outputs": [],
   "source": [
    "batting = batting.drop(columns=['playerID','stint','teamID','lgID','CS','G','yearID'])"
   ]
  },
  {
   "cell_type": "code",
   "execution_count": 15,
   "id": "absent-growing",
   "metadata": {},
   "outputs": [],
   "source": [
    "batting = batting.dropna()"
   ]
  },
  {
   "cell_type": "code",
   "execution_count": null,
   "id": "critical-gross",
   "metadata": {},
   "outputs": [],
   "source": [
    "batting"
   ]
  }
 ],
 "metadata": {
  "kernelspec": {
   "display_name": "Python 3",
   "language": "python",
   "name": "python3"
  },
  "language_info": {
   "codemirror_mode": {
    "name": "ipython",
    "version": 3
   },
   "file_extension": ".py",
   "mimetype": "text/x-python",
   "name": "python",
   "nbconvert_exporter": "python",
   "pygments_lexer": "ipython3",
   "version": "3.7.7"
  }
 },
 "nbformat": 4,
 "nbformat_minor": 5
}
