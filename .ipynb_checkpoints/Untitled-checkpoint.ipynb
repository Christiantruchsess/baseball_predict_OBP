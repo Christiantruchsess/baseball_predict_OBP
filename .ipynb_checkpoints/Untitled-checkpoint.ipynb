{
 "cells": [
  {
   "cell_type": "code",
   "execution_count": 173,
   "id": "urban-practitioner",
   "metadata": {},
   "outputs": [],
   "source": [
    "import numpy as np \n",
    "import pandas as pd\n",
    "\n",
    "import matplotlib.pyplot as plt\n",
    "import seaborn as sns\n",
    "\n",
    "from sklearn.preprocessing import StandardScaler\n",
    "from sklearn.linear_model import LinearRegression\n",
    "from sklearn.model_selection import train_test_split\n",
    "import sklearn.metrics as metrics\n",
    "\n",
    "from sklearn.metrics import r2_score\n",
    "from sklearn.metrics import mean_squared_error as MSE \n",
    "\n",
    "import xgboost as xgb"
   ]
  },
  {
   "cell_type": "code",
   "execution_count": 174,
   "id": "significant-climate",
   "metadata": {},
   "outputs": [],
   "source": [
    "batting = pd.read_csv('data/baseballdatabank-master/core/batting.csv')"
   ]
  },
  {
   "cell_type": "code",
   "execution_count": 175,
   "id": "sophisticated-wound",
   "metadata": {},
   "outputs": [],
   "source": [
    "batting['OBP'] = (batting['H'] + batting['BB'] + batting['HBP'])/(batting['AB'] + batting['BB'] + batting['HBP'] + batting['SF'])"
   ]
  },
  {
   "cell_type": "code",
   "execution_count": 176,
   "id": "third-product",
   "metadata": {},
   "outputs": [],
   "source": [
    "batting = batting[batting['yearID'] >= 2015]"
   ]
  },
  {
   "cell_type": "code",
   "execution_count": 177,
   "id": "applicable-webmaster",
   "metadata": {},
   "outputs": [],
   "source": [
    "batting = batting.dropna()"
   ]
  },
  {
   "cell_type": "code",
   "execution_count": 178,
   "id": "bulgarian-journal",
   "metadata": {},
   "outputs": [],
   "source": [
    "target_data = batting[batting['yearID'] == 2020]"
   ]
  },
  {
   "cell_type": "code",
   "execution_count": 179,
   "id": "mechanical-scanner",
   "metadata": {},
   "outputs": [],
   "source": [
    "training_data = batting[batting['yearID'] != 2020]"
   ]
  },
  {
   "cell_type": "code",
   "execution_count": 180,
   "id": "celtic-class",
   "metadata": {},
   "outputs": [],
   "source": [
    "training_data = training_data.drop(columns=['playerID','stint','teamID','lgID','CS','G'])"
   ]
  },
  {
   "cell_type": "code",
   "execution_count": 181,
   "id": "thrown-recovery",
   "metadata": {},
   "outputs": [],
   "source": [
    "X = training_data.drop(columns='OBP')\n",
    "y = training_data['OBP']"
   ]
  },
  {
   "cell_type": "code",
   "execution_count": 182,
   "id": "foreign-somerset",
   "metadata": {},
   "outputs": [],
   "source": [
    "scale = StandardScaler()\n",
    "X = scale.fit_transform(X)"
   ]
  },
  {
   "cell_type": "code",
   "execution_count": 183,
   "id": "variable-border",
   "metadata": {},
   "outputs": [],
   "source": [
    "X_train, X_test, y_train, y_test = train_test_split(X,y,train_size=.8)"
   ]
  },
  {
   "cell_type": "code",
   "execution_count": 184,
   "id": "aging-supplier",
   "metadata": {},
   "outputs": [],
   "source": [
    "linreg = LinearRegression()"
   ]
  },
  {
   "cell_type": "code",
   "execution_count": 185,
   "id": "adolescent-modification",
   "metadata": {},
   "outputs": [
    {
     "data": {
      "text/plain": [
       "LinearRegression()"
      ]
     },
     "execution_count": 185,
     "metadata": {},
     "output_type": "execute_result"
    }
   ],
   "source": [
    "linreg.fit(X_train,y_train)"
   ]
  },
  {
   "cell_type": "code",
   "execution_count": 186,
   "id": "circular-evolution",
   "metadata": {},
   "outputs": [],
   "source": [
    "y_pred = linreg.predict(X_test)"
   ]
  },
  {
   "cell_type": "code",
   "execution_count": 187,
   "id": "polyphonic-hunter",
   "metadata": {},
   "outputs": [
    {
     "data": {
      "text/plain": [
       "0.2100989992146719"
      ]
     },
     "execution_count": 187,
     "metadata": {},
     "output_type": "execute_result"
    }
   ],
   "source": [
    "metrics.r2_score(y_test, y_pred)"
   ]
  },
  {
   "cell_type": "code",
   "execution_count": 188,
   "id": "silver-nudist",
   "metadata": {},
   "outputs": [],
   "source": [
    "dtrain = xgb.DMatrix(X_train, label=y_train)\n",
    "dtest = xgb.DMatrix(X_test, label=y_test)"
   ]
  },
  {
   "cell_type": "code",
   "execution_count": 189,
   "id": "foster-charles",
   "metadata": {},
   "outputs": [],
   "source": [
    "params = {\n",
    "    # Parameters that we are going to tune.\n",
    "    'max_depth':10,\n",
    "    'min_child_weight': 1,\n",
    "    'eta':.3,\n",
    "    'subsample': 1,\n",
    "    'colsample_bytree': 0.5,\n",
    "    # Other parameters\n",
    "    'objective':'reg:squarederror',\n",
    "    'eval_metric':'mae',\n",
    "    'booster':'gbtree',\n",
    "    'random_state':17,\n",
    "    'verbosity':1,\n",
    "    'n_jobs':5\n",
    "}"
   ]
  },
  {
   "cell_type": "code",
   "execution_count": 190,
   "id": "canadian-opportunity",
   "metadata": {},
   "outputs": [],
   "source": [
    "num_boost_round=999"
   ]
  },
  {
   "cell_type": "code",
   "execution_count": 191,
   "id": "patient-shower",
   "metadata": {},
   "outputs": [
    {
     "name": "stdout",
     "output_type": "stream",
     "text": [
      "[0]\tTest-mae:0.18827\n",
      "[1]\tTest-mae:0.13267\n",
      "[2]\tTest-mae:0.09871\n",
      "[3]\tTest-mae:0.07456\n",
      "[4]\tTest-mae:0.05998\n",
      "[5]\tTest-mae:0.04606\n",
      "[6]\tTest-mae:0.03726\n",
      "[7]\tTest-mae:0.03341\n",
      "[8]\tTest-mae:0.02996\n",
      "[9]\tTest-mae:0.02860\n",
      "[10]\tTest-mae:0.02698\n",
      "[11]\tTest-mae:0.02613\n",
      "[12]\tTest-mae:0.02535\n",
      "[13]\tTest-mae:0.02499\n",
      "[14]\tTest-mae:0.02402\n",
      "[15]\tTest-mae:0.02313\n",
      "[16]\tTest-mae:0.02309\n",
      "[17]\tTest-mae:0.02274\n",
      "[18]\tTest-mae:0.02271\n",
      "[19]\tTest-mae:0.02235\n",
      "[20]\tTest-mae:0.02207\n",
      "[21]\tTest-mae:0.02196\n",
      "[22]\tTest-mae:0.02185\n",
      "[23]\tTest-mae:0.02173\n",
      "[24]\tTest-mae:0.02123\n",
      "[25]\tTest-mae:0.02090\n",
      "[26]\tTest-mae:0.02082\n",
      "[27]\tTest-mae:0.02070\n",
      "[28]\tTest-mae:0.02060\n",
      "[29]\tTest-mae:0.02056\n",
      "[30]\tTest-mae:0.02045\n",
      "[31]\tTest-mae:0.02040\n",
      "[32]\tTest-mae:0.02039\n",
      "[33]\tTest-mae:0.02031\n",
      "[34]\tTest-mae:0.02023\n",
      "[35]\tTest-mae:0.02016\n",
      "[36]\tTest-mae:0.02011\n",
      "[37]\tTest-mae:0.02009\n",
      "[38]\tTest-mae:0.02006\n",
      "[39]\tTest-mae:0.02009\n",
      "[40]\tTest-mae:0.02009\n",
      "[41]\tTest-mae:0.01993\n",
      "[42]\tTest-mae:0.01983\n",
      "[43]\tTest-mae:0.01974\n",
      "[44]\tTest-mae:0.01955\n",
      "[45]\tTest-mae:0.01956\n",
      "[46]\tTest-mae:0.01932\n",
      "[47]\tTest-mae:0.01931\n",
      "[48]\tTest-mae:0.01931\n",
      "[49]\tTest-mae:0.01930\n",
      "[50]\tTest-mae:0.01920\n",
      "[51]\tTest-mae:0.01901\n",
      "[52]\tTest-mae:0.01898\n",
      "[53]\tTest-mae:0.01896\n",
      "[54]\tTest-mae:0.01889\n",
      "[55]\tTest-mae:0.01879\n",
      "[56]\tTest-mae:0.01875\n",
      "[57]\tTest-mae:0.01876\n",
      "[58]\tTest-mae:0.01875\n",
      "[59]\tTest-mae:0.01875\n",
      "[60]\tTest-mae:0.01876\n",
      "[61]\tTest-mae:0.01876\n",
      "[62]\tTest-mae:0.01878\n",
      "[63]\tTest-mae:0.01877\n",
      "[64]\tTest-mae:0.01875\n",
      "[65]\tTest-mae:0.01867\n",
      "[66]\tTest-mae:0.01867\n",
      "[67]\tTest-mae:0.01861\n",
      "[68]\tTest-mae:0.01857\n",
      "[69]\tTest-mae:0.01857\n",
      "[70]\tTest-mae:0.01847\n",
      "[71]\tTest-mae:0.01847\n",
      "[72]\tTest-mae:0.01848\n",
      "[73]\tTest-mae:0.01845\n",
      "[74]\tTest-mae:0.01846\n",
      "[75]\tTest-mae:0.01846\n",
      "[76]\tTest-mae:0.01847\n",
      "[77]\tTest-mae:0.01846\n",
      "[78]\tTest-mae:0.01846\n",
      "[79]\tTest-mae:0.01844\n",
      "[80]\tTest-mae:0.01839\n",
      "[81]\tTest-mae:0.01839\n",
      "[82]\tTest-mae:0.01837\n",
      "[83]\tTest-mae:0.01836\n",
      "[84]\tTest-mae:0.01836\n",
      "[85]\tTest-mae:0.01834\n",
      "[86]\tTest-mae:0.01833\n",
      "[87]\tTest-mae:0.01826\n",
      "[88]\tTest-mae:0.01823\n",
      "[89]\tTest-mae:0.01822\n",
      "[90]\tTest-mae:0.01821\n",
      "[91]\tTest-mae:0.01821\n",
      "[92]\tTest-mae:0.01818\n",
      "[93]\tTest-mae:0.01817\n",
      "[94]\tTest-mae:0.01817\n",
      "[95]\tTest-mae:0.01816\n",
      "[96]\tTest-mae:0.01816\n",
      "[97]\tTest-mae:0.01816\n",
      "[98]\tTest-mae:0.01816\n",
      "[99]\tTest-mae:0.01816\n",
      "[100]\tTest-mae:0.01816\n",
      "[101]\tTest-mae:0.01816\n",
      "[102]\tTest-mae:0.01816\n",
      "[103]\tTest-mae:0.01816\n",
      "[104]\tTest-mae:0.01816\n",
      "[105]\tTest-mae:0.01816\n",
      "[106]\tTest-mae:0.01816\n",
      "[107]\tTest-mae:0.01816\n",
      "[108]\tTest-mae:0.01816\n",
      "[109]\tTest-mae:0.01816\n",
      "[110]\tTest-mae:0.01816\n",
      "[111]\tTest-mae:0.01816\n",
      "[112]\tTest-mae:0.01816\n",
      "[113]\tTest-mae:0.01816\n",
      "[114]\tTest-mae:0.01816\n",
      "[115]\tTest-mae:0.01816\n",
      "[116]\tTest-mae:0.01816\n",
      "[117]\tTest-mae:0.01816\n",
      "[118]\tTest-mae:0.01816\n",
      "[119]\tTest-mae:0.01816\n",
      "[120]\tTest-mae:0.01816\n",
      "[121]\tTest-mae:0.01816\n",
      "[122]\tTest-mae:0.01816\n",
      "[123]\tTest-mae:0.01816\n",
      "[124]\tTest-mae:0.01816\n",
      "[125]\tTest-mae:0.01816\n"
     ]
    }
   ],
   "source": [
    "xgb_r = xgb.train(\n",
    "    params,\n",
    "    dtrain,\n",
    "    num_boost_round=num_boost_round,\n",
    "    evals=[(dtest, \"Test\")],\n",
    "    early_stopping_rounds=30\n",
    ")"
   ]
  },
  {
   "cell_type": "code",
   "execution_count": 192,
   "id": "proud-nowhere",
   "metadata": {},
   "outputs": [],
   "source": [
    "y_predxg = xgb_r.predict(dtest)"
   ]
  },
  {
   "cell_type": "code",
   "execution_count": 193,
   "id": "fabulous-hepatitis",
   "metadata": {},
   "outputs": [
    {
     "name": "stdout",
     "output_type": "stream",
     "text": [
      "RMSE :  0.132852\n"
     ]
    }
   ],
   "source": [
    "rmse = np.sqrt(MSE(y_test, y_pred)) \n",
    "print(\"RMSE : % f\" %(rmse)) "
   ]
  },
  {
   "cell_type": "code",
   "execution_count": 194,
   "id": "angry-press",
   "metadata": {},
   "outputs": [
    {
     "data": {
      "text/plain": [
       "0.9678301185221626"
      ]
     },
     "execution_count": 194,
     "metadata": {},
     "output_type": "execute_result"
    }
   ],
   "source": [
    "r2_score(y_test, y_predxg)"
   ]
  },
  {
   "cell_type": "code",
   "execution_count": 195,
   "id": "metric-links",
   "metadata": {},
   "outputs": [
    {
     "data": {
      "text/plain": [
       "<AxesSubplot:>"
      ]
     },
     "execution_count": 195,
     "metadata": {},
     "output_type": "execute_result"
    },
    {
     "data": {
      "image/png": "[encoded data removed]",
      "text/plain": [
       "<Figure size 864x648 with 2 Axes>"
      ]
     },
     "metadata": {
      "needs_background": "light"
     },
     "output_type": "display_data"
    }
   ],
   "source": [
    "corrmat = batting.corr()\n",
    "f, ax = plt.subplots(figsize=(12, 9))\n",
    "sns.heatmap(corrmat, vmax=.8, square=True,cmap=\"RdYlGn_r\")"
   ]
  },
  {
   "cell_type": "code",
   "execution_count": 196,
   "id": "educated-induction",
   "metadata": {},
   "outputs": [],
   "source": [
    "target_data = target_data.drop(columns=['playerID','stint','teamID','lgID','CS','G'])"
   ]
  },
  {
   "cell_type": "code",
   "execution_count": 197,
   "id": "needed-transfer",
   "metadata": {},
   "outputs": [],
   "source": [
    "X = target_data.drop(columns='OBP')\n",
    "y = target_data['OBP']"
   ]
  },
  {
   "cell_type": "code",
   "execution_count": 198,
   "id": "perceived-audience",
   "metadata": {},
   "outputs": [],
   "source": [
    "scale = StandardScaler()\n",
    "X = scale.fit_transform(X)"
   ]
  },
  {
   "cell_type": "code",
   "execution_count": null,
   "id": "following-pension",
   "metadata": {},
   "outputs": [],
   "source": []
  }
 ],
 "metadata": {
  "kernelspec": {
   "display_name": "Python 3",
   "language": "python",
   "name": "python3"
  },
  "language_info": {
   "codemirror_mode": {
    "name": "ipython",
    "version": 3
   },
   "file_extension": ".py",
   "mimetype": "text/x-python",
   "name": "python",
   "nbconvert_exporter": "python",
   "pygments_lexer": "ipython3",
   "version": "3.7.7"
  }
 },
 "nbformat": 4,
 "nbformat_minor": 5
}
