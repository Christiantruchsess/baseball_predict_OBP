{
 "cells": [
  {
   "cell_type": "code",
   "execution_count": 2,
   "id": "native-kitty",
   "metadata": {},
   "outputs": [],
   "source": [
    "import numpy as np \n",
    "import pandas as pd\n",
    "\n",
    "import matplotlib.pyplot as plt\n",
    "import seaborn as sns\n",
    "\n",
    "from sklearn.preprocessing import StandardScaler\n",
    "from sklearn.linear_model import LinearRegression\n",
    "from sklearn.model_selection import train_test_split\n",
    "import sklearn.metrics as metrics\n",
    "\n",
    "from sklearn.metrics import r2_score\n",
    "from sklearn.metrics import mean_squared_error as MSE \n",
    "\n",
    "import xgboost as xgb"
   ]
  },
  {
   "cell_type": "code",
   "execution_count": 3,
   "id": "black-kingdom",
   "metadata": {},
   "outputs": [],
   "source": [
    "batting = pd.read_csv('data/baseballdatabank-master/core/batting.csv')"
   ]
  },
  {
   "cell_type": "code",
   "execution_count": 4,
   "id": "wicked-medium",
   "metadata": {},
   "outputs": [],
   "source": [
    "batting['OBP'] = (batting['H'] + batting['BB'] + batting['HBP'])/(batting['AB'] + batting['BB'] + batting['HBP'] + batting['SF'])"
   ]
  },
  {
   "cell_type": "code",
   "execution_count": 5,
   "id": "actual-thumb",
   "metadata": {},
   "outputs": [],
   "source": [
    "batting = batting[batting['yearID'] >= 2010]"
   ]
  },
  {
   "cell_type": "code",
   "execution_count": 6,
   "id": "unauthorized-ukraine",
   "metadata": {},
   "outputs": [],
   "source": [
    "batting = batting.dropna()"
   ]
  },
  {
   "cell_type": "code",
   "execution_count": 7,
   "id": "clinical-share",
   "metadata": {},
   "outputs": [],
   "source": [
    "target_data = batting[batting['yearID'] == 2020]"
   ]
  },
  {
   "cell_type": "code",
   "execution_count": 8,
   "id": "continental-chrome",
   "metadata": {},
   "outputs": [],
   "source": [
    "training_data = batting[batting['yearID'] != 2020]"
   ]
  },
  {
   "cell_type": "code",
   "execution_count": 9,
   "id": "complicated-morrison",
   "metadata": {},
   "outputs": [],
   "source": [
    "training_data = training_data.drop(columns=['playerID','stint','teamID','lgID','CS','G'])"
   ]
  },
  {
   "cell_type": "code",
   "execution_count": 11,
   "id": "immediate-sphere",
   "metadata": {},
   "outputs": [
    {
     "data": {
      "text/plain": [
       "(10246, 17)"
      ]
     },
     "execution_count": 11,
     "metadata": {},
     "output_type": "execute_result"
    }
   ],
   "source": [
    "training_data.shape"
   ]
  },
  {
   "cell_type": "code",
   "execution_count": 12,
   "id": "applied-birthday",
   "metadata": {},
   "outputs": [],
   "source": [
    "X = training_data.drop(columns='OBP')\n",
    "y = training_data['OBP']"
   ]
  },
  {
   "cell_type": "code",
   "execution_count": 13,
   "id": "proprietary-think",
   "metadata": {},
   "outputs": [],
   "source": [
    "scale = StandardScaler()\n",
    "X = scale.fit_transform(X)"
   ]
  },
  {
   "cell_type": "code",
   "execution_count": 14,
   "id": "equivalent-telescope",
   "metadata": {},
   "outputs": [],
   "source": [
    "X_train, X_test, y_train, y_test = train_test_split(X,y,train_size=.8)"
   ]
  },
  {
   "cell_type": "code",
   "execution_count": 15,
   "id": "defensive-russian",
   "metadata": {},
   "outputs": [],
   "source": [
    "linreg = LinearRegression()"
   ]
  },
  {
   "cell_type": "code",
   "execution_count": 16,
   "id": "tribal-wyoming",
   "metadata": {},
   "outputs": [
    {
     "data": {
      "text/plain": [
       "LinearRegression()"
      ]
     },
     "execution_count": 16,
     "metadata": {},
     "output_type": "execute_result"
    }
   ],
   "source": [
    "linreg.fit(X_train,y_train)"
   ]
  },
  {
   "cell_type": "code",
   "execution_count": 17,
   "id": "bearing-appearance",
   "metadata": {},
   "outputs": [],
   "source": [
    "y_pred = linreg.predict(X_test)"
   ]
  },
  {
   "cell_type": "code",
   "execution_count": 18,
   "id": "romance-watershed",
   "metadata": {},
   "outputs": [
    {
     "data": {
      "text/plain": [
       "0.2027914695462495"
      ]
     },
     "execution_count": 18,
     "metadata": {},
     "output_type": "execute_result"
    }
   ],
   "source": [
    "metrics.r2_score(y_test, y_pred)"
   ]
  },
  {
   "cell_type": "code",
   "execution_count": 19,
   "id": "photographic-option",
   "metadata": {},
   "outputs": [],
   "source": [
    "dtrain = xgb.DMatrix(X_train, label=y_train)\n",
    "dtest = xgb.DMatrix(X_test, label=y_test)"
   ]
  },
  {
   "cell_type": "code",
   "execution_count": 20,
   "id": "herbal-speaker",
   "metadata": {},
   "outputs": [],
   "source": [
    "params = {\n",
    "    # Parameters that we are going to tune.\n",
    "    'max_depth':4,\n",
    "    'min_child_weight': 1,\n",
    "    'eta':.3,\n",
    "    'subsample': 1,\n",
    "    'colsample_bytree': 0.5,\n",
    "    # Other parameters\n",
    "    'objective':'reg:squarederror',\n",
    "    'eval_metric':'mae',\n",
    "    'booster':'gbtree',\n",
    "    'random_state':17,\n",
    "    'verbosity':1,\n",
    "    'n_jobs':5\n",
    "}"
   ]
  },
  {
   "cell_type": "code",
   "execution_count": 21,
   "id": "unable-pursuit",
   "metadata": {},
   "outputs": [],
   "source": [
    "num_boost_round=15"
   ]
  },
  {
   "cell_type": "code",
   "execution_count": 22,
   "id": "offensive-exhibit",
   "metadata": {},
   "outputs": [
    {
     "name": "stdout",
     "output_type": "stream",
     "text": [
      "[0]\tTest-mae:0.19476\n",
      "[1]\tTest-mae:0.13970\n",
      "[2]\tTest-mae:0.10511\n",
      "[3]\tTest-mae:0.08109\n",
      "[4]\tTest-mae:0.06613\n",
      "[5]\tTest-mae:0.05363\n",
      "[6]\tTest-mae:0.04565\n",
      "[7]\tTest-mae:0.04146\n",
      "[8]\tTest-mae:0.03777\n",
      "[9]\tTest-mae:0.03579\n",
      "[10]\tTest-mae:0.03368\n",
      "[11]\tTest-mae:0.03265\n",
      "[12]\tTest-mae:0.03142\n",
      "[13]\tTest-mae:0.03089\n",
      "[14]\tTest-mae:0.02970\n"
     ]
    }
   ],
   "source": [
    "xgb_r = xgb.train(\n",
    "    params,\n",
    "    dtrain,\n",
    "    num_boost_round=num_boost_round,\n",
    "    evals=[(dtest, \"Test\")],\n",
    "    early_stopping_rounds=30\n",
    ")"
   ]
  },
  {
   "cell_type": "code",
   "execution_count": 23,
   "id": "recognized-corner",
   "metadata": {},
   "outputs": [],
   "source": [
    "y_predxg = xgb_r.predict(dtest)"
   ]
  },
  {
   "cell_type": "code",
   "execution_count": 24,
   "id": "infectious-hearts",
   "metadata": {},
   "outputs": [
    {
     "name": "stdout",
     "output_type": "stream",
     "text": [
      "RMSE :  0.137268\n"
     ]
    }
   ],
   "source": [
    "rmse = np.sqrt(MSE(y_test, y_pred)) \n",
    "print(\"RMSE : % f\" %(rmse)) "
   ]
  },
  {
   "cell_type": "code",
   "execution_count": 25,
   "id": "pleased-winner",
   "metadata": {},
   "outputs": [
    {
     "data": {
      "text/plain": [
       "0.9154735052954601"
      ]
     },
     "execution_count": 25,
     "metadata": {},
     "output_type": "execute_result"
    }
   ],
   "source": [
    "r2_score(y_test, y_predxg)"
   ]
  },
  {
   "cell_type": "code",
   "execution_count": 26,
   "id": "regional-mexico",
   "metadata": {},
   "outputs": [
    {
     "data": {
      "text/plain": [
       "<AxesSubplot:>"
      ]
     },
     "execution_count": 26,
     "metadata": {},
     "output_type": "execute_result"
    },
    {
     "data": {
      "image/png": "[encoded data removed]",
      "text/plain": [
       "<Figure size 864x648 with 2 Axes>"
      ]
     },
     "metadata": {
      "needs_background": "light"
     },
     "output_type": "display_data"
    }
   ],
   "source": [
    "corrmat = batting.corr()\n",
    "f, ax = plt.subplots(figsize=(12, 9))\n",
    "sns.heatmap(corrmat, vmax=.8, square=True,cmap=\"RdYlGn_r\")"
   ]
  },
  {
   "cell_type": "code",
   "execution_count": 27,
   "id": "hybrid-encoding",
   "metadata": {},
   "outputs": [],
   "source": [
    "target_data = target_data.drop(columns=['playerID','stint','teamID','lgID','CS','G'])"
   ]
  },
  {
   "cell_type": "code",
   "execution_count": 28,
   "id": "underlying-eleven",
   "metadata": {},
   "outputs": [],
   "source": [
    "X = target_data.drop(columns='OBP')\n",
    "y = target_data['OBP']"
   ]
  },
  {
   "cell_type": "code",
   "execution_count": 29,
   "id": "future-texas",
   "metadata": {},
   "outputs": [],
   "source": [
    "X = scale.transform(X)"
   ]
  },
  {
   "cell_type": "code",
   "execution_count": 30,
   "id": "suspected-slide",
   "metadata": {},
   "outputs": [],
   "source": [
    "dfinal = xgb.DMatrix(X, label=y)"
   ]
  },
  {
   "cell_type": "code",
   "execution_count": 31,
   "id": "contemporary-rhythm",
   "metadata": {},
   "outputs": [],
   "source": [
    "y_2020_pred = xgb_r.predict(dfinal)"
   ]
  },
  {
   "cell_type": "code",
   "execution_count": 32,
   "id": "published-straight",
   "metadata": {},
   "outputs": [
    {
     "data": {
      "text/plain": [
       "0.667390590336138"
      ]
     },
     "execution_count": 32,
     "metadata": {},
     "output_type": "execute_result"
    }
   ],
   "source": [
    "metrics.r2_score(y, y_2020_pred)"
   ]
  }
 ],
 "metadata": {
  "kernelspec": {
   "display_name": "Python 3",
   "language": "python",
   "name": "python3"
  },
  "language_info": {
   "codemirror_mode": {
    "name": "ipython",
    "version": 3
   },
   "file_extension": ".py",
   "mimetype": "text/x-python",
   "name": "python",
   "nbconvert_exporter": "python",
   "pygments_lexer": "ipython3",
   "version": "3.7.7"
  }
 },
 "nbformat": 4,
 "nbformat_minor": 5
}
